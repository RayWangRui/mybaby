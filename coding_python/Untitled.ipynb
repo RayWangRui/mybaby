{
 "cells": [
  {
   "cell_type": "code",
   "execution_count": 1,
   "id": "45cbbb0b",
   "metadata": {},
   "outputs": [
    {
     "name": "stdout",
     "output_type": "stream",
     "text": [
      "[[30, 12, 10, 22, 444, 333, 45], [42, 22, 32, 466, 777, 378], [64, 54, 498, 1243, 1155], [118, 552, 1741, 2398], [670, 2293, 4139], [2963, 6432], [9395]]\n"
     ]
    }
   ],
   "source": [
    "def calcul_pyramid(base):\n",
    "    pyramid = [base]\n",
    "    for i in range(len(base) - 1):\n",
    "        actual_layer = []\n",
    "        last_layer = pyramid[i]\n",
    "        for j in range(len(last_layer) - 1):\n",
    "            actual_layer.append(last_layer[j] + last_layer[j + 1])\n",
    "        pyramid.append(actual_layer)\n",
    "    return pyramid\n",
    "\n",
    "\n",
    "\n",
    "print(calcul_pyramid([30,12,10,22,444,333,45]))"
   ]
  },
  {
   "cell_type": "code",
   "execution_count": null,
   "id": "4091f004",
   "metadata": {},
   "outputs": [],
   "source": []
  }
 ],
 "metadata": {
  "kernelspec": {
   "display_name": "Python 3 (ipykernel)",
   "language": "python",
   "name": "python3"
  },
  "language_info": {
   "codemirror_mode": {
    "name": "ipython",
    "version": 3
   },
   "file_extension": ".py",
   "mimetype": "text/x-python",
   "name": "python",
   "nbconvert_exporter": "python",
   "pygments_lexer": "ipython3",
   "version": "3.9.7"
  }
 },
 "nbformat": 4,
 "nbformat_minor": 5
}
