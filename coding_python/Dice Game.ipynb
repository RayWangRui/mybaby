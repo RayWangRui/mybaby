{
 "cells": [
  {
   "cell_type": "code",
   "execution_count": 5,
   "id": "55e6dbd1",
   "metadata": {},
   "outputs": [
    {
     "name": "stdout",
     "output_type": "stream",
     "text": [
      "\n",
      "___________________________\n",
      "|                          |\n",
      "|   Double Six Dice Game   |\n",
      "|__________________________|\n",
      "\n",
      "player1 name 王睿\n",
      "player2 name 张紫蕾\n",
      "start\n",
      "张紫蕾 wins\n"
     ]
    }
   ],
   "source": [
    "import random\n",
    "print('''\n",
    "___________________________\n",
    "|                          |\n",
    "|   Double Six Dice Game   |\n",
    "|__________________________|\n",
    "''')\n",
    "\n",
    "def get_count():\n",
    "    count = 0\n",
    "    while True:\n",
    "        count = count + 1\n",
    "        dice1 = random.randint(1,6)\n",
    "        dice2 = random.randint(1,6)\n",
    "        if dice1==6 and dice2==6:\n",
    "            return count\n",
    "\n",
    "\n",
    "player1 = input('player1 name ')\n",
    "player1_count = get_count()\n",
    "\n",
    "player2 = input('player2 name ')\n",
    "player2_count = get_count()\n",
    "\n",
    "print('start')\n",
    "\n",
    "if player1_count > player2_count:\n",
    "    print(player1,' wins')\n",
    "elif player1_count < player2_count:\n",
    "    print(player2, 'wins')\n",
    "else:\n",
    "    print('draw')"
   ]
  },
  {
   "cell_type": "code",
   "execution_count": null,
   "id": "c3eb0fb0",
   "metadata": {},
   "outputs": [],
   "source": [
    "1\n"
   ]
  }
 ],
 "metadata": {
  "kernelspec": {
   "display_name": "Python 3 (ipykernel)",
   "language": "python",
   "name": "python3"
  },
  "language_info": {
   "codemirror_mode": {
    "name": "ipython",
    "version": 3
   },
   "file_extension": ".py",
   "mimetype": "text/x-python",
   "name": "python",
   "nbconvert_exporter": "python",
   "pygments_lexer": "ipython3",
   "version": "3.9.7"
  }
 },
 "nbformat": 4,
 "nbformat_minor": 5
}
