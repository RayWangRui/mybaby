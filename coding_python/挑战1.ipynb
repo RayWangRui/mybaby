{
 "cells": [
  {
   "cell_type": "code",
   "execution_count": 1,
   "id": "7aa8174c",
   "metadata": {
    "scrolled": true
   },
   "outputs": [
    {
     "name": "stdout",
     "output_type": "stream",
     "text": [
      " result= 88888888 symbol_index_1: 1  symbol_index_2: 2\n",
      " result= 97777768 symbol_index_1: 1  symbol_index_2: 3\n",
      " result= 98666568 symbol_index_1: 1  symbol_index_2: 4\n",
      " result= 98754568 symbol_index_1: 1  symbol_index_2: 5\n",
      " result= 98754568 symbol_index_1: 1  symbol_index_2: 6\n",
      " result= 98666568 symbol_index_1: 1  symbol_index_2: 7\n",
      " result= 97777768 symbol_index_1: 1  symbol_index_2: 8\n",
      " result= 88888888 symbol_index_1: 1  symbol_index_2: 9\n",
      " result= 97777768 symbol_index_1: 2  symbol_index_2: 3\n",
      " result= 107555448 symbol_index_1: 2  symbol_index_2: 4\n",
      " result= 108532248 symbol_index_1: 2  symbol_index_2: 5\n",
      " result= 108620248 symbol_index_1: 2  symbol_index_2: 6\n",
      " result= 108532248 symbol_index_1: 2  symbol_index_2: 7\n",
      " result= 107555448 symbol_index_1: 2  symbol_index_2: 8\n",
      " result= 97777768 symbol_index_1: 2  symbol_index_2: 9\n",
      " result= 98666568 symbol_index_1: 3  symbol_index_2: 4\n",
      " result= 108532248 symbol_index_1: 3  symbol_index_2: 5\n",
      " result= 109509048 symbol_index_1: 3  symbol_index_2: 6\n",
      " result= 109509048 symbol_index_1: 3  symbol_index_2: 7\n",
      " result= 108532248 symbol_index_1: 3  symbol_index_2: 8\n",
      " result= 98666568 symbol_index_1: 3  symbol_index_2: 9\n",
      " result= 98754568 symbol_index_1: 4  symbol_index_2: 5\n",
      " result= 108620248 symbol_index_1: 4  symbol_index_2: 6\n",
      " result= 109509048 symbol_index_1: 4  symbol_index_2: 7\n",
      " result= 108620248 symbol_index_1: 4  symbol_index_2: 8\n",
      " result= 98754568 symbol_index_1: 4  symbol_index_2: 9\n",
      " result= 98754568 symbol_index_1: 5  symbol_index_2: 6\n",
      " result= 108532248 symbol_index_1: 5  symbol_index_2: 7\n",
      " result= 108532248 symbol_index_1: 5  symbol_index_2: 8\n",
      " result= 98754568 symbol_index_1: 5  symbol_index_2: 9\n",
      " result= 98666568 symbol_index_1: 6  symbol_index_2: 7\n",
      " result= 107555448 symbol_index_1: 6  symbol_index_2: 8\n",
      " result= 98666568 symbol_index_1: 6  symbol_index_2: 9\n",
      " result= 97777768 symbol_index_1: 7  symbol_index_2: 8\n",
      " result= 97777768 symbol_index_1: 7  symbol_index_2: 9\n",
      " result= 88888888 symbol_index_1: 8  symbol_index_2: 9\n",
      "max value:  result= 109509048 symbol_index_1: 8  symbol_index_2: 9\n"
     ]
    }
   ],
   "source": [
    "\n",
    "nums = '2222222222'\n",
    "\n",
    "max = 0\n",
    "max_index_1=0\n",
    "max_index_2=0\n",
    "result = 0\n",
    "for symbol_index_1 in range(1,9):\n",
    "    for symbol_index_2 in range(symbol_index_1+1,10):\n",
    "        num1 = int(nums[0:symbol_index_1])\n",
    "        num2 = int(nums[symbol_index_1:symbol_index_2])\n",
    "        num3 = int(nums[symbol_index_2:10])\n",
    "        result = num1*num2*num3\n",
    "        print(' result=',result, 'symbol_index_1:',symbol_index_1,' symbol_index_2:',symbol_index_2)\n",
    "        if result > max:\n",
    "            max = result\n",
    "            max_index_1 = symbol_index_1\n",
    "            max_index_2 = symbol_index_2\n",
    "print('max value:',' result=',max, 'symbol_index_1:',symbol_index_1,' symbol_index_2:',symbol_index_2)\n"
   ]
  },
  {
   "cell_type": "code",
   "execution_count": null,
   "id": "ac48923e",
   "metadata": {},
   "outputs": [],
   "source": []
  },
  {
   "cell_type": "code",
   "execution_count": null,
   "id": "94b9a7c0",
   "metadata": {},
   "outputs": [],
   "source": []
  }
 ],
 "metadata": {
  "kernelspec": {
   "display_name": "Python 3 (ipykernel)",
   "language": "python",
   "name": "python3"
  },
  "language_info": {
   "codemirror_mode": {
    "name": "ipython",
    "version": 3
   },
   "file_extension": ".py",
   "mimetype": "text/x-python",
   "name": "python",
   "nbconvert_exporter": "python",
   "pygments_lexer": "ipython3",
   "version": "3.9.7"
  }
 },
 "nbformat": 4,
 "nbformat_minor": 5
}
